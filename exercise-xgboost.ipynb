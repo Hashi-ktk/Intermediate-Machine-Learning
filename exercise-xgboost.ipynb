{
 "cells": [
  {
   "cell_type": "markdown",
   "id": "7a9c8112",
   "metadata": {
    "papermill": {
     "duration": 0.006345,
     "end_time": "2023-02-03T07:52:22.539816",
     "exception": false,
     "start_time": "2023-02-03T07:52:22.533471",
     "status": "completed"
    },
    "tags": []
   },
   "source": [
    "**This notebook is an exercise in the [Intermediate Machine Learning](https://www.kaggle.com/learn/intermediate-machine-learning) course.  You can reference the tutorial at [this link](https://www.kaggle.com/alexisbcook/xgboost).**\n",
    "\n",
    "---\n"
   ]
  },
  {
   "cell_type": "markdown",
   "id": "8cc529ab",
   "metadata": {
    "papermill": {
     "duration": 0.004876,
     "end_time": "2023-02-03T07:52:22.550070",
     "exception": false,
     "start_time": "2023-02-03T07:52:22.545194",
     "status": "completed"
    },
    "tags": []
   },
   "source": [
    "In this exercise, you will use your new knowledge to train a model with **gradient boosting**.\n",
    "\n",
    "# Setup\n",
    "\n",
    "The questions below will give you feedback on your work. Run the following cell to set up the feedback system."
   ]
  },
  {
   "cell_type": "code",
   "execution_count": 1,
   "id": "5e8cf59c",
   "metadata": {
    "execution": {
     "iopub.execute_input": "2023-02-03T07:52:22.564478Z",
     "iopub.status.busy": "2023-02-03T07:52:22.563158Z",
     "iopub.status.idle": "2023-02-03T07:52:25.298043Z",
     "shell.execute_reply": "2023-02-03T07:52:25.297023Z"
    },
    "papermill": {
     "duration": 2.744659,
     "end_time": "2023-02-03T07:52:25.301029",
     "exception": false,
     "start_time": "2023-02-03T07:52:22.556370",
     "status": "completed"
    },
    "tags": []
   },
   "outputs": [
    {
     "name": "stdout",
     "output_type": "stream",
     "text": [
      "Setup Complete\n"
     ]
    }
   ],
   "source": [
    "# Set up code checking\n",
    "import os\n",
    "if not os.path.exists(\"../input/train.csv\"):\n",
    "    os.symlink(\"../input/home-data-for-ml-course/train.csv\", \"../input/train.csv\")  \n",
    "    os.symlink(\"../input/home-data-for-ml-course/test.csv\", \"../input/test.csv\") \n",
    "from learntools.core import binder\n",
    "binder.bind(globals())\n",
    "from learntools.ml_intermediate.ex6 import *\n",
    "print(\"Setup Complete\")"
   ]
  },
  {
   "cell_type": "markdown",
   "id": "2dbd3d2e",
   "metadata": {
    "papermill": {
     "duration": 0.005252,
     "end_time": "2023-02-03T07:52:25.312838",
     "exception": false,
     "start_time": "2023-02-03T07:52:25.307586",
     "status": "completed"
    },
    "tags": []
   },
   "source": [
    "You will work with the [Housing Prices Competition for Kaggle Learn Users](https://www.kaggle.com/c/home-data-for-ml-course) dataset from the previous exercise. \n",
    "\n",
    "![Ames Housing dataset image](https://i.imgur.com/lTJVG4e.png)\n",
    "\n",
    "Run the next code cell without changes to load the training and validation sets in `X_train`, `X_valid`, `y_train`, and `y_valid`.  The test set is loaded in `X_test`."
   ]
  },
  {
   "cell_type": "code",
   "execution_count": 2,
   "id": "52596d66",
   "metadata": {
    "execution": {
     "iopub.execute_input": "2023-02-03T07:52:25.325661Z",
     "iopub.status.busy": "2023-02-03T07:52:25.325269Z",
     "iopub.status.idle": "2023-02-03T07:52:25.521014Z",
     "shell.execute_reply": "2023-02-03T07:52:25.520030Z"
    },
    "papermill": {
     "duration": 0.205609,
     "end_time": "2023-02-03T07:52:25.523859",
     "exception": false,
     "start_time": "2023-02-03T07:52:25.318250",
     "status": "completed"
    },
    "tags": []
   },
   "outputs": [],
   "source": [
    "import pandas as pd\n",
    "from sklearn.model_selection import train_test_split\n",
    "\n",
    "# Read the data\n",
    "X = pd.read_csv('../input/train.csv', index_col='Id')\n",
    "X_test_full = pd.read_csv('../input/test.csv', index_col='Id')\n",
    "\n",
    "# Remove rows with missing target, separate target from predictors\n",
    "X.dropna(axis=0, subset=['SalePrice'], inplace=True)\n",
    "y = X.SalePrice              \n",
    "X.drop(['SalePrice'], axis=1, inplace=True)\n",
    "\n",
    "# Break off validation set from training data\n",
    "X_train_full, X_valid_full, y_train, y_valid = train_test_split(X, y, train_size=0.8, test_size=0.2,\n",
    "                                                                random_state=0)\n",
    "\n",
    "# \"Cardinality\" means the number of unique values in a column\n",
    "# Select categorical columns with relatively low cardinality (convenient but arbitrary)\n",
    "low_cardinality_cols = [cname for cname in X_train_full.columns if X_train_full[cname].nunique() < 10 and \n",
    "                        X_train_full[cname].dtype == \"object\"]\n",
    "\n",
    "# Select numeric columns\n",
    "numeric_cols = [cname for cname in X_train_full.columns if X_train_full[cname].dtype in ['int64', 'float64']]\n",
    "\n",
    "# Keep selected columns only\n",
    "my_cols = low_cardinality_cols + numeric_cols\n",
    "X_train = X_train_full[my_cols].copy()\n",
    "X_valid = X_valid_full[my_cols].copy()\n",
    "X_test = X_test_full[my_cols].copy()\n",
    "\n",
    "# One-hot encode the data (to shorten the code, we use pandas)\n",
    "X_train = pd.get_dummies(X_train)\n",
    "X_valid = pd.get_dummies(X_valid)\n",
    "X_test = pd.get_dummies(X_test)\n",
    "X_train, X_valid = X_train.align(X_valid, join='left', axis=1)\n",
    "X_train, X_test = X_train.align(X_test, join='left', axis=1)"
   ]
  },
  {
   "cell_type": "markdown",
   "id": "5661af5a",
   "metadata": {
    "papermill": {
     "duration": 0.005171,
     "end_time": "2023-02-03T07:52:25.534495",
     "exception": false,
     "start_time": "2023-02-03T07:52:25.529324",
     "status": "completed"
    },
    "tags": []
   },
   "source": [
    "# Step 1: Build model\n",
    "\n",
    "### Part A\n",
    "\n",
    "In this step, you'll build and train your first model with gradient boosting.\n",
    "\n",
    "- Begin by setting `my_model_1` to an XGBoost model.  Use the [XGBRegressor](https://xgboost.readthedocs.io/en/latest/python/python_api.html#xgboost.XGBRegressor) class, and set the random seed to 0 (`random_state=0`).  **Leave all other parameters as default.**\n",
    "- Then, fit the model to the training data in `X_train` and `y_train`."
   ]
  },
  {
   "cell_type": "code",
   "execution_count": 3,
   "id": "587a1fe5",
   "metadata": {
    "execution": {
     "iopub.execute_input": "2023-02-03T07:52:25.547000Z",
     "iopub.status.busy": "2023-02-03T07:52:25.546631Z",
     "iopub.status.idle": "2023-02-03T07:52:26.536192Z",
     "shell.execute_reply": "2023-02-03T07:52:26.535220Z"
    },
    "papermill": {
     "duration": 0.998733,
     "end_time": "2023-02-03T07:52:26.538554",
     "exception": false,
     "start_time": "2023-02-03T07:52:25.539821",
     "status": "completed"
    },
    "tags": []
   },
   "outputs": [
    {
     "data": {
      "application/javascript": [
       "parent.postMessage({\"jupyterEvent\": \"custom.exercise_interaction\", \"data\": {\"outcomeType\": 1, \"valueTowardsCompletion\": 0.5, \"interactionType\": 1, \"questionType\": 2, \"questionId\": \"1.1_Model1A\", \"learnToolsVersion\": \"0.3.4\", \"failureMessage\": \"\", \"exceptionClass\": \"\", \"trace\": \"\"}}, \"*\")"
      ],
      "text/plain": [
       "<IPython.core.display.Javascript object>"
      ]
     },
     "metadata": {},
     "output_type": "display_data"
    },
    {
     "data": {
      "text/markdown": [
       "<span style=\"color:#33cc33\">Correct</span>"
      ],
      "text/plain": [
       "Correct"
      ]
     },
     "metadata": {},
     "output_type": "display_data"
    }
   ],
   "source": [
    "from xgboost import XGBRegressor\n",
    "\n",
    "# Define the model\n",
    "my_model_1 = XGBRegressor(random_state=0)\n",
    "\n",
    "# Fit the model\n",
    "my_model_1.fit(X_train, y_train)\n",
    "\n",
    "# Check your answer\n",
    "step_1.a.check()"
   ]
  },
  {
   "cell_type": "code",
   "execution_count": 4,
   "id": "eb9dfa4c",
   "metadata": {
    "execution": {
     "iopub.execute_input": "2023-02-03T07:52:26.551849Z",
     "iopub.status.busy": "2023-02-03T07:52:26.551439Z",
     "iopub.status.idle": "2023-02-03T07:52:26.555533Z",
     "shell.execute_reply": "2023-02-03T07:52:26.554571Z"
    },
    "papermill": {
     "duration": 0.013635,
     "end_time": "2023-02-03T07:52:26.557979",
     "exception": false,
     "start_time": "2023-02-03T07:52:26.544344",
     "status": "completed"
    },
    "tags": []
   },
   "outputs": [],
   "source": [
    "# Lines below will give you a hint or solution code\n",
    "#step_1.a.hint()\n",
    "#step_1.a.solution()"
   ]
  },
  {
   "cell_type": "markdown",
   "id": "f3c30fe4",
   "metadata": {
    "papermill": {
     "duration": 0.00529,
     "end_time": "2023-02-03T07:52:26.568912",
     "exception": false,
     "start_time": "2023-02-03T07:52:26.563622",
     "status": "completed"
    },
    "tags": []
   },
   "source": [
    "### Part B\n",
    "\n",
    "Set `predictions_1` to the model's predictions for the validation data.  Recall that the validation features are stored in `X_valid`."
   ]
  },
  {
   "cell_type": "code",
   "execution_count": 5,
   "id": "de4c2696",
   "metadata": {
    "execution": {
     "iopub.execute_input": "2023-02-03T07:52:26.582104Z",
     "iopub.status.busy": "2023-02-03T07:52:26.581470Z",
     "iopub.status.idle": "2023-02-03T07:52:26.604718Z",
     "shell.execute_reply": "2023-02-03T07:52:26.603667Z"
    },
    "papermill": {
     "duration": 0.032845,
     "end_time": "2023-02-03T07:52:26.607285",
     "exception": false,
     "start_time": "2023-02-03T07:52:26.574440",
     "status": "completed"
    },
    "tags": []
   },
   "outputs": [
    {
     "data": {
      "application/javascript": [
       "parent.postMessage({\"jupyterEvent\": \"custom.exercise_interaction\", \"data\": {\"outcomeType\": 1, \"valueTowardsCompletion\": 0.5, \"interactionType\": 1, \"questionType\": 2, \"questionId\": \"1.2_Model1B\", \"learnToolsVersion\": \"0.3.4\", \"failureMessage\": \"\", \"exceptionClass\": \"\", \"trace\": \"\"}}, \"*\")"
      ],
      "text/plain": [
       "<IPython.core.display.Javascript object>"
      ]
     },
     "metadata": {},
     "output_type": "display_data"
    },
    {
     "data": {
      "text/markdown": [
       "<span style=\"color:#33cc33\">Correct</span>"
      ],
      "text/plain": [
       "Correct"
      ]
     },
     "metadata": {},
     "output_type": "display_data"
    }
   ],
   "source": [
    "from sklearn.metrics import mean_absolute_error\n",
    "\n",
    "# Get predictions\n",
    "predictions_1 = my_model_1.predict(X_valid)\n",
    "\n",
    "# Check your answer\n",
    "step_1.b.check()"
   ]
  },
  {
   "cell_type": "code",
   "execution_count": 6,
   "id": "9e509893",
   "metadata": {
    "execution": {
     "iopub.execute_input": "2023-02-03T07:52:26.621517Z",
     "iopub.status.busy": "2023-02-03T07:52:26.621149Z",
     "iopub.status.idle": "2023-02-03T07:52:26.625629Z",
     "shell.execute_reply": "2023-02-03T07:52:26.624526Z"
    },
    "papermill": {
     "duration": 0.013833,
     "end_time": "2023-02-03T07:52:26.627901",
     "exception": false,
     "start_time": "2023-02-03T07:52:26.614068",
     "status": "completed"
    },
    "tags": []
   },
   "outputs": [],
   "source": [
    "# Lines below will give you a hint or solution code\n",
    "#step_1.b.hint()\n",
    "#step_1.b.solution()"
   ]
  },
  {
   "cell_type": "markdown",
   "id": "ec8e17d7",
   "metadata": {
    "papermill": {
     "duration": 0.005458,
     "end_time": "2023-02-03T07:52:26.639347",
     "exception": false,
     "start_time": "2023-02-03T07:52:26.633889",
     "status": "completed"
    },
    "tags": []
   },
   "source": [
    "### Part C\n",
    "\n",
    "Finally, use the `mean_absolute_error()` function to calculate the mean absolute error (MAE) corresponding to the predictions for the validation set.  Recall that the labels for the validation data are stored in `y_valid`."
   ]
  },
  {
   "cell_type": "code",
   "execution_count": 7,
   "id": "b1eddd38",
   "metadata": {
    "execution": {
     "iopub.execute_input": "2023-02-03T07:52:26.652689Z",
     "iopub.status.busy": "2023-02-03T07:52:26.652302Z",
     "iopub.status.idle": "2023-02-03T07:52:26.663971Z",
     "shell.execute_reply": "2023-02-03T07:52:26.662276Z"
    },
    "papermill": {
     "duration": 0.021451,
     "end_time": "2023-02-03T07:52:26.666558",
     "exception": false,
     "start_time": "2023-02-03T07:52:26.645107",
     "status": "completed"
    },
    "tags": []
   },
   "outputs": [
    {
     "name": "stdout",
     "output_type": "stream",
     "text": [
      "Mean Absolute Error: 17662.736729452055\n",
      "Mean Absolute Error: 17662.736729452055\n"
     ]
    },
    {
     "data": {
      "application/javascript": [
       "parent.postMessage({\"jupyterEvent\": \"custom.exercise_interaction\", \"data\": {\"outcomeType\": 1, \"valueTowardsCompletion\": 0.5, \"interactionType\": 1, \"questionType\": 2, \"questionId\": \"1.3_Model1C\", \"learnToolsVersion\": \"0.3.4\", \"failureMessage\": \"\", \"exceptionClass\": \"\", \"trace\": \"\"}}, \"*\")"
      ],
      "text/plain": [
       "<IPython.core.display.Javascript object>"
      ]
     },
     "metadata": {},
     "output_type": "display_data"
    },
    {
     "data": {
      "text/markdown": [
       "<span style=\"color:#33cc33\">Correct</span>"
      ],
      "text/plain": [
       "Correct"
      ]
     },
     "metadata": {},
     "output_type": "display_data"
    }
   ],
   "source": [
    "# Calculate MAE\n",
    "mae_1 = mean_absolute_error(predictions_1, y_valid)\n",
    "print(\"Mean Absolute Error:\" , mae_1)\n",
    "\n",
    "# Uncomment to print MAE\n",
    "print(\"Mean Absolute Error:\" , mae_1)\n",
    "\n",
    "# Check your answer\n",
    "step_1.c.check()"
   ]
  },
  {
   "cell_type": "code",
   "execution_count": 8,
   "id": "9f7c9dc1",
   "metadata": {
    "execution": {
     "iopub.execute_input": "2023-02-03T07:52:26.680577Z",
     "iopub.status.busy": "2023-02-03T07:52:26.680180Z",
     "iopub.status.idle": "2023-02-03T07:52:26.684254Z",
     "shell.execute_reply": "2023-02-03T07:52:26.683374Z"
    },
    "papermill": {
     "duration": 0.013796,
     "end_time": "2023-02-03T07:52:26.686510",
     "exception": false,
     "start_time": "2023-02-03T07:52:26.672714",
     "status": "completed"
    },
    "tags": []
   },
   "outputs": [],
   "source": [
    "# Lines below will give you a hint or solution code\n",
    "#step_1.c.hint()\n",
    "#step_1.c.solution()"
   ]
  },
  {
   "cell_type": "markdown",
   "id": "4bc0115b",
   "metadata": {
    "papermill": {
     "duration": 0.00654,
     "end_time": "2023-02-03T07:52:26.699152",
     "exception": false,
     "start_time": "2023-02-03T07:52:26.692612",
     "status": "completed"
    },
    "tags": []
   },
   "source": [
    "# Step 2: Improve the model\n",
    "\n",
    "Now that you've trained a default model as baseline, it's time to tinker with the parameters, to see if you can get better performance!\n",
    "- Begin by setting `my_model_2` to an XGBoost model, using the [XGBRegressor](https://xgboost.readthedocs.io/en/latest/python/python_api.html#xgboost.XGBRegressor) class.  Use what you learned in the previous tutorial to figure out how to change the default parameters (like `n_estimators` and `learning_rate`) to get better results.\n",
    "- Then, fit the model to the training data in `X_train` and `y_train`.\n",
    "- Set `predictions_2` to the model's predictions for the validation data.  Recall that the validation features are stored in `X_valid`.\n",
    "- Finally, use the `mean_absolute_error()` function to calculate the mean absolute error (MAE) corresponding to the predictions on the validation set.  Recall that the labels for the validation data are stored in `y_valid`.\n",
    "\n",
    "In order for this step to be marked correct, your model in `my_model_2` must attain lower MAE than the model in `my_model_1`. "
   ]
  },
  {
   "cell_type": "code",
   "execution_count": 9,
   "id": "66fbe0d3",
   "metadata": {
    "execution": {
     "iopub.execute_input": "2023-02-03T07:52:26.713300Z",
     "iopub.status.busy": "2023-02-03T07:52:26.712844Z",
     "iopub.status.idle": "2023-02-03T07:52:36.280750Z",
     "shell.execute_reply": "2023-02-03T07:52:36.279744Z"
    },
    "papermill": {
     "duration": 9.577802,
     "end_time": "2023-02-03T07:52:36.283012",
     "exception": false,
     "start_time": "2023-02-03T07:52:26.705210",
     "status": "completed"
    },
    "tags": []
   },
   "outputs": [
    {
     "name": "stdout",
     "output_type": "stream",
     "text": [
      "Mean Absolute Error: 16688.691513270547\n",
      "Mean Absolute Error: 16688.691513270547\n"
     ]
    },
    {
     "data": {
      "application/javascript": [
       "parent.postMessage({\"jupyterEvent\": \"custom.exercise_interaction\", \"data\": {\"outcomeType\": 1, \"valueTowardsCompletion\": 0.5, \"interactionType\": 1, \"questionType\": 2, \"questionId\": \"2_Model2\", \"learnToolsVersion\": \"0.3.4\", \"failureMessage\": \"\", \"exceptionClass\": \"\", \"trace\": \"\"}}, \"*\")"
      ],
      "text/plain": [
       "<IPython.core.display.Javascript object>"
      ]
     },
     "metadata": {},
     "output_type": "display_data"
    },
    {
     "data": {
      "text/markdown": [
       "<span style=\"color:#33cc33\">Correct</span>"
      ],
      "text/plain": [
       "Correct"
      ]
     },
     "metadata": {},
     "output_type": "display_data"
    }
   ],
   "source": [
    "# Define the model\n",
    "my_model_2 = XGBRegressor(n_estimators=1000, learning_rate=0.05)\n",
    "\n",
    "# Fit the model\n",
    "my_model_2.fit(X_train, y_train)\n",
    "\n",
    "# Get predictions\n",
    "predictions_2 = my_model_2.predict(X_valid)\n",
    "\n",
    "# Calculate MAE\n",
    "mae_2 = mean_absolute_error(predictions_2, y_valid)\n",
    "print(\"Mean Absolute Error:\" , mae_2)\n",
    "\n",
    "# Uncomment to print MAE\n",
    "print(\"Mean Absolute Error:\" , mae_2)\n",
    "\n",
    "# Check your answer\n",
    "step_2.check()"
   ]
  },
  {
   "cell_type": "code",
   "execution_count": 10,
   "id": "0d04ab30",
   "metadata": {
    "execution": {
     "iopub.execute_input": "2023-02-03T07:52:36.298678Z",
     "iopub.status.busy": "2023-02-03T07:52:36.298270Z",
     "iopub.status.idle": "2023-02-03T07:52:36.302732Z",
     "shell.execute_reply": "2023-02-03T07:52:36.301854Z"
    },
    "papermill": {
     "duration": 0.01452,
     "end_time": "2023-02-03T07:52:36.304902",
     "exception": false,
     "start_time": "2023-02-03T07:52:36.290382",
     "status": "completed"
    },
    "tags": []
   },
   "outputs": [],
   "source": [
    "# Lines below will give you a hint or solution code\n",
    "#step_2.hint()\n",
    "#step_2.solution()"
   ]
  },
  {
   "cell_type": "markdown",
   "id": "37e70c88",
   "metadata": {
    "papermill": {
     "duration": 0.006033,
     "end_time": "2023-02-03T07:52:36.317334",
     "exception": false,
     "start_time": "2023-02-03T07:52:36.311301",
     "status": "completed"
    },
    "tags": []
   },
   "source": [
    "# Step 3: Break the model\n",
    "\n",
    "In this step, you will create a model that performs worse than the original model in Step 1.  This will help you to develop your intuition for how to set parameters.  You might even find that you accidentally get better performance, which is ultimately a nice problem to have and a valuable learning experience!\n",
    "- Begin by setting `my_model_3` to an XGBoost model, using the [XGBRegressor](https://xgboost.readthedocs.io/en/latest/python/python_api.html#xgboost.XGBRegressor) class.  Use what you learned in the previous tutorial to figure out how to change the default parameters (like `n_estimators` and `learning_rate`) to design a model to get high MAE.\n",
    "- Then, fit the model to the training data in `X_train` and `y_train`.\n",
    "- Set `predictions_3` to the model's predictions for the validation data.  Recall that the validation features are stored in `X_valid`.\n",
    "- Finally, use the `mean_absolute_error()` function to calculate the mean absolute error (MAE) corresponding to the predictions on the validation set.  Recall that the labels for the validation data are stored in `y_valid`.\n",
    "\n",
    "In order for this step to be marked correct, your model in `my_model_3` must attain higher MAE than the model in `my_model_1`. "
   ]
  },
  {
   "cell_type": "code",
   "execution_count": 11,
   "id": "70a2e7ac",
   "metadata": {
    "execution": {
     "iopub.execute_input": "2023-02-03T07:52:36.332393Z",
     "iopub.status.busy": "2023-02-03T07:52:36.331171Z",
     "iopub.status.idle": "2023-02-03T07:52:36.393934Z",
     "shell.execute_reply": "2023-02-03T07:52:36.393046Z"
    },
    "papermill": {
     "duration": 0.074112,
     "end_time": "2023-02-03T07:52:36.397763",
     "exception": false,
     "start_time": "2023-02-03T07:52:36.323651",
     "status": "completed"
    },
    "tags": []
   },
   "outputs": [
    {
     "name": "stdout",
     "output_type": "stream",
     "text": [
      "Mean Absolute Error: 127895.0828807256\n",
      "Mean Absolute Error: 127895.0828807256\n"
     ]
    },
    {
     "data": {
      "application/javascript": [
       "parent.postMessage({\"jupyterEvent\": \"custom.exercise_interaction\", \"data\": {\"outcomeType\": 1, \"valueTowardsCompletion\": 0.5, \"interactionType\": 1, \"questionType\": 2, \"questionId\": \"3_Model3\", \"learnToolsVersion\": \"0.3.4\", \"failureMessage\": \"\", \"exceptionClass\": \"\", \"trace\": \"\"}}, \"*\")"
      ],
      "text/plain": [
       "<IPython.core.display.Javascript object>"
      ]
     },
     "metadata": {},
     "output_type": "display_data"
    },
    {
     "data": {
      "text/markdown": [
       "<span style=\"color:#33cc33\">Correct</span>"
      ],
      "text/plain": [
       "Correct"
      ]
     },
     "metadata": {},
     "output_type": "display_data"
    }
   ],
   "source": [
    "# Define the model\n",
    "my_model_3 = XGBRegressor(n_estimators=1)\n",
    "\n",
    "# Fit the model\n",
    "my_model_3.fit(X_train, y_train)\n",
    "\n",
    "# Get predictions\n",
    "predictions_3 = my_model_3.predict(X_valid)\n",
    "\n",
    "# Calculate MAE\n",
    "mae_3 = mean_absolute_error(predictions_3, y_valid)\n",
    "print(\"Mean Absolute Error:\" , mae_3)\n",
    "\n",
    "# Uncomment to print MAE\n",
    "print(\"Mean Absolute Error:\" , mae_3)\n",
    "\n",
    "# Check your answer\n",
    "step_3.check()"
   ]
  },
  {
   "cell_type": "code",
   "execution_count": 12,
   "id": "89261e66",
   "metadata": {
    "execution": {
     "iopub.execute_input": "2023-02-03T07:52:36.414511Z",
     "iopub.status.busy": "2023-02-03T07:52:36.414083Z",
     "iopub.status.idle": "2023-02-03T07:52:36.418847Z",
     "shell.execute_reply": "2023-02-03T07:52:36.417782Z"
    },
    "papermill": {
     "duration": 0.015063,
     "end_time": "2023-02-03T07:52:36.421168",
     "exception": false,
     "start_time": "2023-02-03T07:52:36.406105",
     "status": "completed"
    },
    "tags": []
   },
   "outputs": [],
   "source": [
    "# Lines below will give you a hint or solution code\n",
    "#step_3.hint()\n",
    "#step_3.solution()"
   ]
  },
  {
   "cell_type": "markdown",
   "id": "f3c8b7cd",
   "metadata": {
    "papermill": {
     "duration": 0.00635,
     "end_time": "2023-02-03T07:52:36.434173",
     "exception": false,
     "start_time": "2023-02-03T07:52:36.427823",
     "status": "completed"
    },
    "tags": []
   },
   "source": [
    "# Keep going\n",
    "\n",
    "Continue to learn about **[data leakage](https://www.kaggle.com/alexisbcook/data-leakage)**.  This is an important issue for a data scientist to understand, and it has the potential to ruin your models in subtle and dangerous ways!"
   ]
  },
  {
   "cell_type": "markdown",
   "id": "647ec6b8",
   "metadata": {
    "papermill": {
     "duration": 0.006325,
     "end_time": "2023-02-03T07:52:36.447055",
     "exception": false,
     "start_time": "2023-02-03T07:52:36.440730",
     "status": "completed"
    },
    "tags": []
   },
   "source": [
    "---\n",
    "\n",
    "\n",
    "\n",
    "\n",
    "*Have questions or comments? Visit the [course discussion forum](https://www.kaggle.com/learn/intermediate-machine-learning/discussion) to chat with other learners.*"
   ]
  }
 ],
 "metadata": {
  "kernelspec": {
   "display_name": "Python 3",
   "language": "python",
   "name": "python3"
  },
  "language_info": {
   "codemirror_mode": {
    "name": "ipython",
    "version": 3
   },
   "file_extension": ".py",
   "mimetype": "text/x-python",
   "name": "python",
   "nbconvert_exporter": "python",
   "pygments_lexer": "ipython3",
   "version": "3.7.12"
  },
  "papermill": {
   "default_parameters": {},
   "duration": 23.729517,
   "end_time": "2023-02-03T07:52:37.276738",
   "environment_variables": {},
   "exception": null,
   "input_path": "__notebook__.ipynb",
   "output_path": "__notebook__.ipynb",
   "parameters": {},
   "start_time": "2023-02-03T07:52:13.547221",
   "version": "2.3.4"
  }
 },
 "nbformat": 4,
 "nbformat_minor": 5
}
